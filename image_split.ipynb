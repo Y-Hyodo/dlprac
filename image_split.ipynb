{
 "cells": [
  {
   "cell_type": "code",
   "execution_count": 22,
   "metadata": {},
   "outputs": [
    {
     "name": "stdout",
     "output_type": "stream",
     "text": [
      "width: 3280\n",
      "height: 2464\n",
      "dx: 125.0\n",
      "dy: 125.0\n"
     ]
    }
   ],
   "source": [
    "#　コンロッド学習用　画像分割\n",
    "\n",
    "from PIL import Image\n",
    "\n",
    "#　画像読み込み\n",
    "im = Image.open('tenten.jpg')\n",
    "w, h = im.size\n",
    "\n",
    "# パッチのサイズ　※ネットワークのサイズに合わせる方向で\n",
    "ps_w = 250 # patch_size_w\n",
    "ps_h = 250 # patch_size_h\n",
    "\n",
    "#シフト量　※オーバーラップ量調整 \n",
    "dw = ps_w / 2 \n",
    "dh = ps_h / 2\n",
    "\n",
    "#分割数 ※メモ程度\n",
    "sw = w // ps_w \n",
    "sh = h // ps_h \n",
    "\n",
    "print('width:',w)\n",
    "print('height:',h)\n",
    "print('dx:',dw)\n",
    "print('dy:',dh)\n",
    "number=1 #初期化\n",
    "\n",
    "for y in range(0, int(h-ps_h) ,int(dh)):\n",
    "    for x in range(0,int(w-ps_w), int(dw)):\n",
    "        im_crop = im.crop((x, y, x+ps_w, y+ps_h))\n",
    "        im_crop.save('./split/'+str(number)+'.jpg')\n",
    "        number = number + 1\n",
    "    \n",
    "\n",
    "# width:3280 height:2464 で 25*18=450個のファイル生成"
   ]
  },
  {
   "cell_type": "code",
   "execution_count": 13,
   "metadata": {},
   "outputs": [
    {
     "data": {
      "text/plain": [
       "451"
      ]
     },
     "execution_count": 13,
     "metadata": {},
     "output_type": "execute_result"
    }
   ],
   "source": [
    "number"
   ]
  },
  {
   "cell_type": "code",
   "execution_count": 14,
   "metadata": {},
   "outputs": [
    {
     "data": {
      "text/plain": [
       "3000"
      ]
     },
     "execution_count": 14,
     "metadata": {},
     "output_type": "execute_result"
    }
   ],
   "source": [
    "x"
   ]
  },
  {
   "cell_type": "code",
   "execution_count": 15,
   "metadata": {},
   "outputs": [
    {
     "data": {
      "text/plain": [
       "2125"
      ]
     },
     "execution_count": 15,
     "metadata": {},
     "output_type": "execute_result"
    }
   ],
   "source": [
    "y"
   ]
  },
  {
   "cell_type": "code",
   "execution_count": null,
   "metadata": {},
   "outputs": [],
   "source": []
  }
 ],
 "metadata": {
  "kernelspec": {
   "display_name": "Python 3",
   "language": "python",
   "name": "python3"
  },
  "language_info": {
   "codemirror_mode": {
    "name": "ipython",
    "version": 3
   },
   "file_extension": ".py",
   "mimetype": "text/x-python",
   "name": "python",
   "nbconvert_exporter": "python",
   "pygments_lexer": "ipython3",
   "version": "3.7.3"
  }
 },
 "nbformat": 4,
 "nbformat_minor": 2
}
