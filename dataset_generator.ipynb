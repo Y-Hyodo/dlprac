{
 "cells": [
  {
   "cell_type": "code",
   "execution_count": 1,
   "metadata": {},
   "outputs": [
    {
     "name": "stderr",
     "output_type": "stream",
     "text": [
      "Using TensorFlow backend.\n"
     ]
    }
   ],
   "source": [
    "# イメージデータの拡張\n",
    "# 同じディレクトリ内に’original_data’フォルダを置いてその中に変換したい画像を入れる\n",
    "# 'extended'フォルダに変換した画像が出てくる\n",
    "#　for分を何回繰り返すかで何枚拡張するかを指定\n",
    "#  ﾊﾟﾗﾒｰﾀを指定\n",
    "########################################################\n",
    "import os\n",
    "import glob\n",
    "import numpy as np\n",
    "from keras.preprocessing.image import ImageDataGenerator, load_img, img_to_array, array_to_img\n",
    "\n",
    "def draw_images(generator, x, dir_name, index):\n",
    "    # 出力ファイルの設定\n",
    "    save_name = 'extened-' + str(index)\n",
    "    g = generator.flow(x, batch_size=1, save_to_dir=output_dir, save_prefix=save_name, save_format='jpg')\n",
    "\n",
    "    # 1つの入力画像から何枚拡張するかを指定\n",
    "    # g.next()の回数分拡張される\n",
    "    for i in range(30):\n",
    "        bach = g.next()\n",
    "\n",
    "\n",
    "if __name__ == '__main__':\n",
    "\n",
    "    # 出力先ディレクトリの設定\n",
    "    output_dir = \"extended\"\n",
    "    if not(os.path.exists(output_dir)):\n",
    "        os.mkdir(output_dir)\n",
    "\n",
    "    # 拡張する画像群の読み込み\n",
    "    images = glob.glob(os.path.join('./original_data/', \"*.jpg\"))\n",
    "\n",
    "    # 拡張する際の設定\n",
    "    generator = ImageDataGenerator(\n",
    "                    rotation_range=90, # 90°まで回転\n",
    "                    width_shift_range=0.0005, # 水平方向にランダムでシフト 　全長の割合の比率0.1=10%の範囲でランダム \n",
    "                    height_shift_range=0.0005, # 垂直方向にランダムでシフト　全長の割合の比率\n",
    "                    channel_shift_range=50.0, # 色調をランダム変更\n",
    "                    # shear_range=0.39, # 斜め方向(pi/8まで)に引っ張る\n",
    "                    horizontal_flip=True, # 垂直方向にランダムで反転\n",
    "                    vertical_flip=True # 水平方向にランダムで反転\n",
    "                    )\n",
    "\n",
    "    # 読み込んだ画像を順に拡張\n",
    "    for i in range(len(images)):\n",
    "        img = load_img(images[i])\n",
    "        # 画像を配列化して転置a\n",
    "        x = img_to_array(img)\n",
    "        x = np.expand_dims(x, axis=0)\n",
    "        # 画像の拡張\n",
    "        draw_images(generator, x, output_dir, i)"
   ]
  },
  {
   "cell_type": "code",
   "execution_count": null,
   "metadata": {},
   "outputs": [],
   "source": []
  }
 ],
 "metadata": {
  "kernelspec": {
   "display_name": "Python 3",
   "language": "python",
   "name": "python3"
  },
  "language_info": {
   "codemirror_mode": {
    "name": "ipython",
    "version": 3
   },
   "file_extension": ".py",
   "mimetype": "text/x-python",
   "name": "python",
   "nbconvert_exporter": "python",
   "pygments_lexer": "ipython3",
   "version": "3.7.3"
  }
 },
 "nbformat": 4,
 "nbformat_minor": 2
}
