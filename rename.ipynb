{
 "cells": [
  {
   "cell_type": "code",
   "execution_count": 12,
   "metadata": {},
   "outputs": [],
   "source": [
    "import glob\n",
    "import os\n",
    " \n",
    "# 拡張子.txtのファイルを取得する\n",
    "path = '*.jpg'\n",
    "i = 1723\n",
    " \n",
    "# jpgファイルを取得する\n",
    "flist = glob.glob(path)\n",
    "# print('変更前')\n",
    "# print(flist)\n",
    " \n",
    "# ファイル名を一括で変更する\n",
    "for file in flist:\n",
    "  os.rename(file, './rename/' + str(i) + '.jpg')\n",
    "  i+=1"
   ]
  },
  {
   "cell_type": "code",
   "execution_count": null,
   "metadata": {},
   "outputs": [],
   "source": []
  }
 ],
 "metadata": {
  "kernelspec": {
   "display_name": "Python 3",
   "language": "python",
   "name": "python3"
  },
  "language_info": {
   "codemirror_mode": {
    "name": "ipython",
    "version": 3
   },
   "file_extension": ".py",
   "mimetype": "text/x-python",
   "name": "python",
   "nbconvert_exporter": "python",
   "pygments_lexer": "ipython3",
   "version": "3.7.3"
  }
 },
 "nbformat": 4,
 "nbformat_minor": 2
}
